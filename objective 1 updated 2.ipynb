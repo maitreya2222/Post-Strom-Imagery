{
 "cells": [
  {
   "cell_type": "code",
   "execution_count": 1,
   "id": "2c7fe20d",
   "metadata": {},
   "outputs": [],
   "source": [
    "import ee\n",
    "import geopandas as gpd\n",
    "import folium\n",
    "import numpy as np\n",
    "import rasterio\n",
    "import matplotlib.pyplot as plt\n",
    "from shapely.geometry import mapping\n"
   ]
  },
  {
   "cell_type": "code",
   "execution_count": 2,
   "id": "d7fc5b15",
   "metadata": {},
   "outputs": [],
   "source": [
    "# Authenticate and Initialize Earth Engine\n",
    "ee.Authenticate()\n",
    "ee.Initialize()"
   ]
  },
  {
   "cell_type": "code",
   "execution_count": 3,
   "id": "8bf9cc5d",
   "metadata": {},
   "outputs": [],
   "source": [
    "#  Define AOI for Puerto Rico\n",
    "aoi = ee.FeatureCollection(\"USDOS/LSIB_SIMPLE/2017\").filter(ee.Filter.eq(\"country_na\", \"Puerto Rico\"))"
   ]
  },
  {
   "cell_type": "code",
   "execution_count": 4,
   "id": "4577281d",
   "metadata": {},
   "outputs": [],
   "source": [
    "#  Define Pre and Post Event Dates for Hurricane Maria\n",
    "pre_event_dates = ['2017-09-01', '2017-09-19']\n",
    "post_event_dates = ['2017-09-20', '2017-10-10']"
   ]
  },
  {
   "cell_type": "code",
   "execution_count": 5,
   "id": "fe5a4f85",
   "metadata": {},
   "outputs": [],
   "source": [
    "#  Load and Process Sentinel-1 SAR Data\n",
    "def load_sar_data(date_range):\n",
    "    return ee.ImageCollection('COPERNICUS/S1_GRD') \\\n",
    "        .filterBounds(aoi) \\\n",
    "        .filterDate(date_range[0], date_range[1]) \\\n",
    "        .filter(ee.Filter.eq('instrumentMode', 'IW')) \\\n",
    "        .filter(ee.Filter.listContains('transmitterReceiverPolarisation', 'VV')) \\\n",
    "        .select('VV') \\\n",
    "        .mean()\n",
    "\n",
    "pre_event_sar = load_sar_data(pre_event_dates)\n",
    "post_event_sar = load_sar_data(post_event_dates)"
   ]
  },
  {
   "cell_type": "code",
   "execution_count": 6,
   "id": "2a0f16aa",
   "metadata": {},
   "outputs": [],
   "source": [
    "#  Speckle Filtering (Gamma Filter)\n",
    "def apply_gamma_filter(image):\n",
    "    return image.focal_mean(radius=50, kernelType='circle', iterations=1)\n",
    "\n",
    "pre_event_filtered = apply_gamma_filter(pre_event_sar)\n",
    "post_event_filtered = apply_gamma_filter(post_event_sar)"
   ]
  },
  {
   "cell_type": "code",
   "execution_count": 7,
   "id": "6c96128c",
   "metadata": {},
   "outputs": [],
   "source": [
    "# Calculate Backscatter Change\n",
    "backscatter_diff = post_event_filtered.subtract(pre_event_filtered)\n"
   ]
  },
  {
   "cell_type": "code",
   "execution_count": 8,
   "id": "56a09ff2",
   "metadata": {},
   "outputs": [],
   "source": [
    "# Load DEM and Slope Data\n",
    "dem = ee.Image('USGS/SRTMGL1_003')\n",
    "slope = ee.Terrain.slope(dem)"
   ]
  },
  {
   "cell_type": "code",
   "execution_count": 9,
   "id": "f46c7fe2",
   "metadata": {},
   "outputs": [],
   "source": [
    "#  Define Thresholds\n",
    "backscatter_threshold = -2.5\n",
    "elevation_threshold = 50\n",
    "slope_threshold = 5"
   ]
  },
  {
   "cell_type": "code",
   "execution_count": 10,
   "id": "24658af7",
   "metadata": {},
   "outputs": [],
   "source": [
    "# Create Flood Mask Using SAR, DEM, and Slope\n",
    "flood_mask = backscatter_diff.lt(backscatter_threshold) \\\n",
    "    .And(dem.lt(elevation_threshold)) \\\n",
    "    .And(slope.lt(slope_threshold))\n"
   ]
  },
  {
   "cell_type": "code",
   "execution_count": 11,
   "id": "d76831a0",
   "metadata": {},
   "outputs": [],
   "source": [
    "#  Remove Permanent Water Bodies (Use Updated Dataset)\n",
    "permanent_water = ee.Image('JRC/GSW1_4/GlobalSurfaceWater').select('max_extent')\n",
    "flood_mask_refined = flood_mask.updateMask(permanent_water.Not())"
   ]
  },
  {
   "cell_type": "code",
   "execution_count": 16,
   "id": "0fa9482c",
   "metadata": {},
   "outputs": [],
   "source": [
    "flood_vectors = flood_mask_refined.reduceToVectors(\n",
    "    geometry=aoi.geometry(),  \n",
    "    geometryType='polygon',\n",
    "    reducer=ee.Reducer.countEvery(),\n",
    "    scale=30,\n",
    "    maxPixels=1e10\n",
    ")"
   ]
  },
  {
   "cell_type": "code",
   "execution_count": 19,
   "id": "35daad79",
   "metadata": {},
   "outputs": [],
   "source": [
    "# Export to Google Drive\n",
    "export_task = ee.batch.Export.table.toDrive(\n",
    "    collection=flood_vectors,\n",
    "    description='HurricaneMaria_FloodExtent',\n",
    "    fileFormat='GeoJSON'\n",
    ")\n",
    "export_task.start()"
   ]
  },
  {
   "cell_type": "code",
   "execution_count": 25,
   "id": "09a55ebc",
   "metadata": {},
   "outputs": [
    {
     "name": "stdout",
     "output_type": "stream",
     "text": [
      "{'state': 'COMPLETED', 'description': 'HurricaneMaria_FloodExtent', 'priority': 100, 'creation_timestamp_ms': 1744076491557, 'update_timestamp_ms': 1744076903426, 'start_timestamp_ms': 1744076496488, 'task_type': 'EXPORT_FEATURES', 'destination_uris': ['https://drive.google.com/'], 'attempt': 1, 'batch_eecu_usage_seconds': 22912.7265625, 'id': 'FSP7BU2LD3BGJ7O3RVZ54N3Z', 'name': 'projects/poststorm/operations/FSP7BU2LD3BGJ7O3RVZ54N3Z'}\n",
      "{'state': 'RUNNING', 'description': 'HurricaneMaria_FloodExtent', 'priority': 100, 'creation_timestamp_ms': 1744076479682, 'update_timestamp_ms': 1744076953739, 'start_timestamp_ms': 1744076483636, 'task_type': 'EXPORT_FEATURES', 'attempt': 1, 'batch_eecu_usage_seconds': 7805.272460937, 'id': 'J7QV5JLJJBXKNNYYGCL3VD4U', 'name': 'projects/poststorm/operations/J7QV5JLJJBXKNNYYGCL3VD4U'}\n",
      "{'state': 'FAILED', 'description': 'HurricaneMaria_FloodExtent', 'priority': 100, 'creation_timestamp_ms': 1744076278201, 'update_timestamp_ms': 1744076286932, 'start_timestamp_ms': 1744076286164, 'task_type': 'EXPORT_FEATURES', 'attempt': 1, 'batch_eecu_usage_seconds': 0.529855787, 'error_message': \"Image.reduceToVectors: Provide 'geometry' parameter when aggregating over an unbounded image.\", 'id': 'TKIPCP3K4LDJRODHSHL3NRRS', 'name': 'projects/poststorm/operations/TKIPCP3K4LDJRODHSHL3NRRS'}\n",
      "{'state': 'FAILED', 'description': 'HurricaneMaria_FloodExtent', 'priority': 100, 'creation_timestamp_ms': 1744074495063, 'update_timestamp_ms': 1744074503771, 'start_timestamp_ms': 1744074503261, 'task_type': 'EXPORT_FEATURES', 'attempt': 1, 'batch_eecu_usage_seconds': 0.440330564, 'error_message': \"Image.normalizedDifference: No band named 'B3'. Available band names: [].\", 'id': 'PTUUTGJSTZPDEVTQNUOPR4ZD', 'name': 'projects/poststorm/operations/PTUUTGJSTZPDEVTQNUOPR4ZD'}\n",
      "{'state': 'COMPLETED', 'description': 'PuertoRico_Flood_Depth_Maria2017', 'priority': 100, 'creation_timestamp_ms': 1744060236616, 'update_timestamp_ms': 1744062085443, 'start_timestamp_ms': 1744060243047, 'task_type': 'EXPORT_IMAGE', 'destination_uris': ['https://drive.google.com/#folders/1hkzLhwt2sQ2MW-1XtyjZpIKMzjSxD2D_'], 'attempt': 1, 'batch_eecu_usage_seconds': 61973.859375, 'id': 'K4VMUKQ4SWSHGFCOUSVPVZFZ', 'name': 'projects/poststorm/operations/K4VMUKQ4SWSHGFCOUSVPVZFZ'}\n"
     ]
    }
   ],
   "source": [
    "task_status = ee.batch.Task.list()\n",
    "for t in task_status:\n",
    "    print(t.status())"
   ]
  },
  {
   "cell_type": "code",
   "execution_count": 30,
   "id": "6a14895e",
   "metadata": {},
   "outputs": [],
   "source": [
    "# Local Processing (after download from Drive)\n",
    "flood_gdf = gpd.read_file('C:\\\\Users\\\\hanis\\\\Downloads\\\\HurricaneMaria_FloodExtent.geojson')\n",
    "municipalities_gdf = gpd.read_file('C:\\\\Users\\\\hanis\\\\Downloads\\\\pri_adm_2019_shp\\\\pri_admbnda_adm1_2019.shp')"
   ]
  },
  {
   "cell_type": "code",
   "execution_count": 31,
   "id": "2f490bbc",
   "metadata": {},
   "outputs": [],
   "source": [
    "# Ensure Same CRS\n",
    "flood_gdf = flood_gdf.to_crs(municipalities_gdf.crs)"
   ]
  },
  {
   "cell_type": "code",
   "execution_count": 33,
   "id": "5c42d25c",
   "metadata": {},
   "outputs": [],
   "source": [
    "#  Spatial Join: Assign Flood to Municipality\n",
    "flood_by_municipality = gpd.sjoin(flood_gdf, municipalities_gdf, how='inner', predicate='intersects')\n"
   ]
  },
  {
   "cell_type": "code",
   "execution_count": 34,
   "id": "ad9b5448",
   "metadata": {},
   "outputs": [
    {
     "name": "stderr",
     "output_type": "stream",
     "text": [
      "C:\\Users\\hanis\\AppData\\Local\\Temp\\ipykernel_27016\\773716852.py:2: UserWarning: Geometry is in a geographic CRS. Results from 'area' are likely incorrect. Use 'GeoSeries.to_crs()' to re-project geometries to a projected CRS before this operation.\n",
      "\n",
      "  flood_by_municipality['flooded_area_km2'] = flood_by_municipality.geometry.area / 1e6\n"
     ]
    },
    {
     "ename": "KeyError",
     "evalue": "\"['municipality_name'] not in index\"",
     "output_type": "error",
     "traceback": [
      "\u001b[1;31m---------------------------------------------------------------------------\u001b[0m",
      "\u001b[1;31mKeyError\u001b[0m                                  Traceback (most recent call last)",
      "Cell \u001b[1;32mIn[34], line 3\u001b[0m\n\u001b[0;32m      1\u001b[0m \u001b[38;5;66;03m# ✅ Calculate Flood Area per Municipality\u001b[39;00m\n\u001b[0;32m      2\u001b[0m flood_by_municipality[\u001b[38;5;124m'\u001b[39m\u001b[38;5;124mflooded_area_km2\u001b[39m\u001b[38;5;124m'\u001b[39m] \u001b[38;5;241m=\u001b[39m flood_by_municipality\u001b[38;5;241m.\u001b[39mgeometry\u001b[38;5;241m.\u001b[39marea \u001b[38;5;241m/\u001b[39m \u001b[38;5;241m1e6\u001b[39m\n\u001b[1;32m----> 3\u001b[0m \u001b[43mflood_by_municipality\u001b[49m\u001b[43m[\u001b[49m\u001b[43m[\u001b[49m\u001b[38;5;124;43m'\u001b[39;49m\u001b[38;5;124;43mmunicipality_name\u001b[39;49m\u001b[38;5;124;43m'\u001b[39;49m\u001b[43m,\u001b[49m\u001b[43m \u001b[49m\u001b[38;5;124;43m'\u001b[39;49m\u001b[38;5;124;43mflooded_area_km2\u001b[39;49m\u001b[38;5;124;43m'\u001b[39;49m\u001b[43m]\u001b[49m\u001b[43m]\u001b[49m\u001b[38;5;241m.\u001b[39mto_csv(\u001b[38;5;124m'\u001b[39m\u001b[38;5;124mFloodedAreaByMunicipality.csv\u001b[39m\u001b[38;5;124m'\u001b[39m, index\u001b[38;5;241m=\u001b[39m\u001b[38;5;28;01mFalse\u001b[39;00m)\n",
      "File \u001b[1;32m~\\anaconda3\\envs\\gdal_env\\lib\\site-packages\\geopandas\\geodataframe.py:1750\u001b[0m, in \u001b[0;36mGeoDataFrame.__getitem__\u001b[1;34m(self, key)\u001b[0m\n\u001b[0;32m   1744\u001b[0m \u001b[38;5;28;01mdef\u001b[39;00m\u001b[38;5;250m \u001b[39m\u001b[38;5;21m__getitem__\u001b[39m(\u001b[38;5;28mself\u001b[39m, key):\n\u001b[0;32m   1745\u001b[0m \u001b[38;5;250m    \u001b[39m\u001b[38;5;124;03m\"\"\"\u001b[39;00m\n\u001b[0;32m   1746\u001b[0m \u001b[38;5;124;03m    If the result is a column containing only 'geometry', return a\u001b[39;00m\n\u001b[0;32m   1747\u001b[0m \u001b[38;5;124;03m    GeoSeries. If it's a DataFrame with any columns of GeometryDtype,\u001b[39;00m\n\u001b[0;32m   1748\u001b[0m \u001b[38;5;124;03m    return a GeoDataFrame.\u001b[39;00m\n\u001b[0;32m   1749\u001b[0m \u001b[38;5;124;03m    \"\"\"\u001b[39;00m\n\u001b[1;32m-> 1750\u001b[0m     result \u001b[38;5;241m=\u001b[39m \u001b[38;5;28;43msuper\u001b[39;49m\u001b[43m(\u001b[49m\u001b[43m)\u001b[49m\u001b[38;5;241;43m.\u001b[39;49m\u001b[38;5;21;43m__getitem__\u001b[39;49m\u001b[43m(\u001b[49m\u001b[43mkey\u001b[49m\u001b[43m)\u001b[49m\n\u001b[0;32m   1751\u001b[0m     \u001b[38;5;66;03m# Custom logic to avoid waiting for pandas GH51895\u001b[39;00m\n\u001b[0;32m   1752\u001b[0m     \u001b[38;5;66;03m# result is not geometry dtype for multi-indexes\u001b[39;00m\n\u001b[0;32m   1753\u001b[0m     \u001b[38;5;28;01mif\u001b[39;00m (\n\u001b[0;32m   1754\u001b[0m         pd\u001b[38;5;241m.\u001b[39mapi\u001b[38;5;241m.\u001b[39mtypes\u001b[38;5;241m.\u001b[39mis_scalar(key)\n\u001b[0;32m   1755\u001b[0m         \u001b[38;5;129;01mand\u001b[39;00m key \u001b[38;5;241m==\u001b[39m \u001b[38;5;124m\"\u001b[39m\u001b[38;5;124m\"\u001b[39m\n\u001b[1;32m   (...)\u001b[0m\n\u001b[0;32m   1758\u001b[0m         \u001b[38;5;129;01mand\u001b[39;00m \u001b[38;5;129;01mnot\u001b[39;00m is_geometry_type(result)\n\u001b[0;32m   1759\u001b[0m     ):\n",
      "File \u001b[1;32m~\\anaconda3\\envs\\gdal_env\\lib\\site-packages\\pandas\\core\\frame.py:3813\u001b[0m, in \u001b[0;36mDataFrame.__getitem__\u001b[1;34m(self, key)\u001b[0m\n\u001b[0;32m   3811\u001b[0m     \u001b[38;5;28;01mif\u001b[39;00m is_iterator(key):\n\u001b[0;32m   3812\u001b[0m         key \u001b[38;5;241m=\u001b[39m \u001b[38;5;28mlist\u001b[39m(key)\n\u001b[1;32m-> 3813\u001b[0m     indexer \u001b[38;5;241m=\u001b[39m \u001b[38;5;28;43mself\u001b[39;49m\u001b[38;5;241;43m.\u001b[39;49m\u001b[43mcolumns\u001b[49m\u001b[38;5;241;43m.\u001b[39;49m\u001b[43m_get_indexer_strict\u001b[49m\u001b[43m(\u001b[49m\u001b[43mkey\u001b[49m\u001b[43m,\u001b[49m\u001b[43m \u001b[49m\u001b[38;5;124;43m\"\u001b[39;49m\u001b[38;5;124;43mcolumns\u001b[39;49m\u001b[38;5;124;43m\"\u001b[39;49m\u001b[43m)\u001b[49m[\u001b[38;5;241m1\u001b[39m]\n\u001b[0;32m   3815\u001b[0m \u001b[38;5;66;03m# take() does not accept boolean indexers\u001b[39;00m\n\u001b[0;32m   3816\u001b[0m \u001b[38;5;28;01mif\u001b[39;00m \u001b[38;5;28mgetattr\u001b[39m(indexer, \u001b[38;5;124m\"\u001b[39m\u001b[38;5;124mdtype\u001b[39m\u001b[38;5;124m\"\u001b[39m, \u001b[38;5;28;01mNone\u001b[39;00m) \u001b[38;5;241m==\u001b[39m \u001b[38;5;28mbool\u001b[39m:\n",
      "File \u001b[1;32m~\\anaconda3\\envs\\gdal_env\\lib\\site-packages\\pandas\\core\\indexes\\base.py:6070\u001b[0m, in \u001b[0;36mIndex._get_indexer_strict\u001b[1;34m(self, key, axis_name)\u001b[0m\n\u001b[0;32m   6067\u001b[0m \u001b[38;5;28;01melse\u001b[39;00m:\n\u001b[0;32m   6068\u001b[0m     keyarr, indexer, new_indexer \u001b[38;5;241m=\u001b[39m \u001b[38;5;28mself\u001b[39m\u001b[38;5;241m.\u001b[39m_reindex_non_unique(keyarr)\n\u001b[1;32m-> 6070\u001b[0m \u001b[38;5;28;43mself\u001b[39;49m\u001b[38;5;241;43m.\u001b[39;49m\u001b[43m_raise_if_missing\u001b[49m\u001b[43m(\u001b[49m\u001b[43mkeyarr\u001b[49m\u001b[43m,\u001b[49m\u001b[43m \u001b[49m\u001b[43mindexer\u001b[49m\u001b[43m,\u001b[49m\u001b[43m \u001b[49m\u001b[43maxis_name\u001b[49m\u001b[43m)\u001b[49m\n\u001b[0;32m   6072\u001b[0m keyarr \u001b[38;5;241m=\u001b[39m \u001b[38;5;28mself\u001b[39m\u001b[38;5;241m.\u001b[39mtake(indexer)\n\u001b[0;32m   6073\u001b[0m \u001b[38;5;28;01mif\u001b[39;00m \u001b[38;5;28misinstance\u001b[39m(key, Index):\n\u001b[0;32m   6074\u001b[0m     \u001b[38;5;66;03m# GH 42790 - Preserve name from an Index\u001b[39;00m\n",
      "File \u001b[1;32m~\\anaconda3\\envs\\gdal_env\\lib\\site-packages\\pandas\\core\\indexes\\base.py:6133\u001b[0m, in \u001b[0;36mIndex._raise_if_missing\u001b[1;34m(self, key, indexer, axis_name)\u001b[0m\n\u001b[0;32m   6130\u001b[0m     \u001b[38;5;28;01mraise\u001b[39;00m \u001b[38;5;167;01mKeyError\u001b[39;00m(\u001b[38;5;124mf\u001b[39m\u001b[38;5;124m\"\u001b[39m\u001b[38;5;124mNone of [\u001b[39m\u001b[38;5;132;01m{\u001b[39;00mkey\u001b[38;5;132;01m}\u001b[39;00m\u001b[38;5;124m] are in the [\u001b[39m\u001b[38;5;132;01m{\u001b[39;00maxis_name\u001b[38;5;132;01m}\u001b[39;00m\u001b[38;5;124m]\u001b[39m\u001b[38;5;124m\"\u001b[39m)\n\u001b[0;32m   6132\u001b[0m not_found \u001b[38;5;241m=\u001b[39m \u001b[38;5;28mlist\u001b[39m(ensure_index(key)[missing_mask\u001b[38;5;241m.\u001b[39mnonzero()[\u001b[38;5;241m0\u001b[39m]]\u001b[38;5;241m.\u001b[39munique())\n\u001b[1;32m-> 6133\u001b[0m \u001b[38;5;28;01mraise\u001b[39;00m \u001b[38;5;167;01mKeyError\u001b[39;00m(\u001b[38;5;124mf\u001b[39m\u001b[38;5;124m\"\u001b[39m\u001b[38;5;132;01m{\u001b[39;00mnot_found\u001b[38;5;132;01m}\u001b[39;00m\u001b[38;5;124m not in index\u001b[39m\u001b[38;5;124m\"\u001b[39m)\n",
      "\u001b[1;31mKeyError\u001b[0m: \"['municipality_name'] not in index\""
     ]
    }
   ],
   "source": [
    "#  Calculate Flood Area per Municipality\n",
    "flood_by_municipality['flooded_area_km2'] = flood_by_municipality.geometry.area / 1e6\n",
    "flood_by_municipality[['municipality_name', 'flooded_area_km2']].to_csv('FloodedAreaByMunicipality.csv', index=False)\n"
   ]
  },
  {
   "cell_type": "code",
   "execution_count": 35,
   "id": "74727dda",
   "metadata": {},
   "outputs": [
    {
     "name": "stdout",
     "output_type": "stream",
     "text": [
      "Index(['ADM0_ES', 'ADM0_PCODE', 'ADM1_ES', 'ADM1_PCODE', 'geometry'], dtype='object')\n"
     ]
    }
   ],
   "source": [
    "print(municipalities_gdf.columns)\n"
   ]
  },
  {
   "cell_type": "code",
   "execution_count": 36,
   "id": "6dc38367",
   "metadata": {},
   "outputs": [],
   "source": [
    "municipalities_gdf = municipalities_gdf.rename(columns={'ADM1_ES': 'municipality_name'})\n"
   ]
  },
  {
   "cell_type": "code",
   "execution_count": 37,
   "id": "7f0f0da0",
   "metadata": {},
   "outputs": [],
   "source": [
    "flood_by_municipality = gpd.sjoin(flood_gdf, municipalities_gdf, how='inner', predicate='intersects')\n"
   ]
  },
  {
   "cell_type": "code",
   "execution_count": 38,
   "id": "a8b2ef66",
   "metadata": {},
   "outputs": [
    {
     "name": "stderr",
     "output_type": "stream",
     "text": [
      "C:\\Users\\hanis\\AppData\\Local\\Temp\\ipykernel_27016\\2705238762.py:1: UserWarning: Geometry is in a geographic CRS. Results from 'area' are likely incorrect. Use 'GeoSeries.to_crs()' to re-project geometries to a projected CRS before this operation.\n",
      "\n",
      "  flood_by_municipality['flooded_area_km2'] = flood_by_municipality.geometry.area / 1e6\n"
     ]
    }
   ],
   "source": [
    "flood_by_municipality['flooded_area_km2'] = flood_by_municipality.geometry.area / 1e6\n",
    "flood_by_municipality[['municipality_name', 'flooded_area_km2']].to_csv('FloodedAreaByMunicipality.csv', index=False)\n"
   ]
  },
  {
   "cell_type": "code",
   "execution_count": 39,
   "id": "078ebf59",
   "metadata": {},
   "outputs": [],
   "source": [
    "# Reproject to UTM Zone 20N\n",
    "flood_by_municipality = flood_by_municipality.to_crs(epsg=32620)\n"
   ]
  },
  {
   "cell_type": "code",
   "execution_count": 40,
   "id": "41ef451f",
   "metadata": {},
   "outputs": [],
   "source": [
    "# Calculate flooded area in square kilometers\n",
    "flood_by_municipality['flooded_area_km2'] = flood_by_municipality.geometry.area / 1e6\n"
   ]
  },
  {
   "cell_type": "code",
   "execution_count": 41,
   "id": "1fe4c6ea",
   "metadata": {},
   "outputs": [],
   "source": [
    "# Export to CSV\n",
    "flood_by_municipality[['municipality_name', 'flooded_area_km2']].to_csv('FloodedAreaByMunicipality.csv', index=False)\n"
   ]
  },
  {
   "cell_type": "code",
   "execution_count": 43,
   "id": "40553790",
   "metadata": {},
   "outputs": [],
   "source": [
    "# Visualization Map (Folium)\n",
    "m = folium.Map(location=[18.2208, -66.5901], zoom_start=8)\n",
    "\n",
    "folium.GeoJson(\n",
    "    municipalities_gdf,\n",
    "    name='Municipalities',\n",
    "    style_function=lambda feature: {\n",
    "        'fillColor': 'none',\n",
    "        'color': 'black',\n",
    "        'weight': 1\n",
    "    }\n",
    ").add_to(m)\n",
    "\n",
    "folium.GeoJson(\n",
    "    flood_gdf,\n",
    "    name='Flood Extent',\n",
    "    style_function=lambda feature: {\n",
    "        'fillColor': 'blue',\n",
    "        'color': 'blue',\n",
    "        'weight': 0.5,\n",
    "        'fillOpacity': 0.6\n",
    "    }\n",
    ").add_to(m)\n",
    "\n",
    "folium.LayerControl().add_to(m)\n",
    "m.save(\"HurricaneMaria_Flood_Map.html\")"
   ]
  },
  {
   "cell_type": "code",
   "execution_count": null,
   "id": "fd19e6ab",
   "metadata": {},
   "outputs": [],
   "source": []
  }
 ],
 "metadata": {
  "kernelspec": {
   "display_name": "gdal_env",
   "language": "python",
   "name": "gdal_env"
  },
  "language_info": {
   "codemirror_mode": {
    "name": "ipython",
    "version": 3
   },
   "file_extension": ".py",
   "mimetype": "text/x-python",
   "name": "python",
   "nbconvert_exporter": "python",
   "pygments_lexer": "ipython3",
   "version": "3.10.16"
  }
 },
 "nbformat": 4,
 "nbformat_minor": 5
}
